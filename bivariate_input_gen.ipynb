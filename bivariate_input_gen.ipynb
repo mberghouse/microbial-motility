{
 "cells": [
  {
   "cell_type": "code",
   "execution_count": 29,
   "metadata": {},
   "outputs": [
    {
     "name": "stdout",
     "output_type": "stream",
     "text": [
      "Working on pre_1000part_4xspeed_kalman_TM_z.csv\n",
      "Working on pre_1000part_4xspeed_lap_TM_z.csv\n",
      "Working on pre_1000part_4xspeed_TP_z.csv\n",
      "Working on pre_1000part_8xspeed_kalman_TM_z.csv\n",
      "Working on pre_1000part_8xspeed_lap_TM_z.csv\n",
      "Working on pre_1000part_8xspeed_TP_z.csv\n",
      "Working on pre_1000part_kalman_TM_z.csv\n",
      "Working on pre_1000part_lap_TM_z.csv\n",
      "Working on pre_1000part_TP_z.csv\n",
      "Working on pre_2000part_4xspeed_TP_z.csv\n",
      "Working on pre_2000part_8xspeed_kalman_TM_z.csv\n",
      "Working on pre_2000part_8xspeed_lap_TM_z.csv\n",
      "Working on pre_2000part_8xspeed_TP_z.csv\n",
      "Working on pre_2000part_kalman_TM_z.csv\n",
      "Working on pre_2000part_lap_TM_z.csv\n",
      "Working on pre_2000part_TP_z.csv\n",
      "Working on pre_500part_4xspeed_kalman_TM_z.csv\n",
      "Working on pre_500part_4xspeed_lap_TM_z.csv\n",
      "Working on pre_500part_4xspeed_TP_z.csv\n",
      "Working on pre_500part_8xspeed_kalman_TM_z.csv\n",
      "Working on pre_500part_8xspeed_lap_TM_z.csv\n",
      "Working on pre_500part_8xspeed_TP_z.csv\n",
      "Working on pre_500part_kalman_TM_z.csv\n",
      "Working on pre_500part_lap_TM_z.csv\n",
      "Working on pre_500part_TP_z.csv\n"
     ]
    }
   ],
   "source": [
    "#Trackmate, trackpy, unil and sim vel and turning angle calculation\n",
    "import statsmodels.api as sm\n",
    "import numpy as np\n",
    "import pandas as pd\n",
    "#import pims\n",
    "#import trackpy as tp\n",
    "import os\n",
    "\n",
    "import matplotlib  as mpl \n",
    "import matplotlib.pyplot as plt \n",
    "import glob\n",
    "import os\n",
    "import cv2\n",
    "import warnings\n",
    "warnings.filterwarnings(\"ignore\", category=RuntimeWarning) \n",
    "directory='C:/Users/marcb/Desktop/ParticleTrackingComparison_results/preprocessed_light/'\n",
    "os.chdir('C:/Users/marcb/Desktop/ParticleTrackingComparison_results/vel_angle/')\n",
    "substring='z'\n",
    "subc='xc'\n",
    "suby='yc'\n",
    "for filename in os.listdir(directory):\n",
    "    print ('Working on ' + str(filename))\n",
    "    if subc in filename:\n",
    "        traj_stats=[]\n",
    "        xc = pd.read_csv(os.path.join(directory,filename),header=None)\n",
    "        new_fname='yc'+filename[2:]\n",
    "        yc = pd.read_csv(os.path.join(directory,new_fname),header=None)\n",
    "        xc[xc==0]=np.nan\n",
    "        yc[yc==0]=np.nan\n",
    "        frame_diff = 1\n",
    "        for n in range(xc.shape[1]):\n",
    "            x_diff = xc[n].diff()\n",
    "            y_diff = yc[n].diff()\n",
    "            vel=np.sqrt(x_diff**2+y_diff**2)\n",
    "            angles=np.zeros((len(x_diff),1))\n",
    "            for i in range(len(x_diff)-1):\n",
    "                theta_1=np.arctan(y_diff.iloc[i]/x_diff.iloc[i])\n",
    "                theta_2=np.arctan(y_diff.iloc[i+1]/x_diff.iloc[i+1])\n",
    "                angles[i]=(theta_2-theta_1)*(180/np.pi)\n",
    "\n",
    "            for count, val in enumerate (angles):\n",
    "                if val==0:\n",
    "                    angles[count]=np.nan\n",
    "            vel=vel[0:len(angles)]\n",
    "\n",
    "            traj_stats.append([n, angles,vel])\n",
    "        angle_array=[]\n",
    "        vel_array=[]\n",
    "        for i in range(len(traj_stats)):\n",
    "            section1=traj_stats[i][1]\n",
    "            section1=np.reshape(section1,(len(section1),))\n",
    "            section2=traj_stats[i][2]\n",
    "            section2=np.reshape(section2,(len(section2),))\n",
    "            angle_array=np.hstack([section1,angle_array])\n",
    "            vel_array=np.hstack([section2,vel_array])\n",
    "            final_array=np.vstack([np.transpose(angle_array)[0:len(vel_array)],np.transpose(vel_array)])\n",
    "        pd.DataFrame(np.transpose(final_array)).to_csv('vel'+str(filename))\n",
    "\n",
    "    elif suby in filename:\n",
    "        break\n",
    "\n",
    "    elif 'unil' in filename:\n",
    "        traj_stats=[]\n",
    "        xc = pd.read_csv(os.path.join(directory,filename),header=None)\n",
    "        new_fname='yc'+filename[2:]\n",
    "        yc = pd.read_csv(os.path.join(directory,new_fname),header=None)\n",
    "        frame_diff = 1\n",
    "        for n in range(xc.shape[0]):\n",
    "            x_diff = xc.iloc[n].diff()\n",
    "            y_diff = yc.iloc[n].diff()\n",
    "            vel=np.sqrt(x_diff**2+y_diff**2)\n",
    "            angles=np.zeros((len(x_diff),1))\n",
    "            for i in range(len(x_diff)-1):\n",
    "                theta_1=np.arctan(y_diff.iloc[i]/x_diff.iloc[i])\n",
    "                theta_2=np.arctan(y_diff.iloc[i+1]/x_diff.iloc[i+1])\n",
    "                angles[i]=(theta_2-theta_1)*(180/np.pi)\n",
    "            for count, val in enumerate (angles):\n",
    "                if val==0:\n",
    "                    angles[count]=np.nan\n",
    "            vel=vel[0:len(angles)]\n",
    "            traj_stats.append([n, angles,vel])\n",
    "        angle_array=[]\n",
    "        vel_array=[]\n",
    "        for i in range(len(traj_stats)):\n",
    "            section1=traj_stats[i][1]\n",
    "            section1=np.reshape(section1,(len(section1),))\n",
    "            section2=traj_stats[i][2]\n",
    "            section2=np.reshape(section2,(len(section2),))\n",
    "            angle_array=np.hstack([section1,angle_array])\n",
    "            vel_array=np.hstack([section2,vel_array])\n",
    "            final_array=np.vstack([np.transpose(angle_array)[0:len(vel_array)],np.transpose(vel_array)])            \n",
    "        pd.DataFrame(np.transpose(final_array)).to_csv('vel'+str(filename))\n",
    "\n",
    "    else:                \n",
    "        t1 = pd.read_csv(os.path.join(directory,filename))\n",
    "        unique_part=[]\n",
    "        for i in t1.particle.unique():\n",
    "            unique_part.append(i)\n",
    "        unique_part = [x for x in unique_part if str(x) != 'nan']\n",
    "        traj_stats=[]\n",
    "        dist=[]\n",
    "        count=0\n",
    "        for n in range(len(unique_part)):\n",
    "            tslice=t1.particle==unique_part[n]\n",
    "            traj_x=t1[tslice].sort_values(['frame']).x\n",
    "            traj_y=t1[tslice].sort_values(['frame']).y\n",
    "            frame=t1[tslice].sort_values(['frame']).frame\n",
    "            frame_diff=frame.diff()\n",
    "            x_diff=traj_x.diff()\n",
    "            y_diff=traj_y.diff()\n",
    "            vel_dist=np.sqrt(x_diff**2+y_diff**2)\n",
    "            vel=np.reshape(vel_dist.values,[len(vel_dist),1])/np.reshape(frame_diff.values,[len(vel_dist),1])\n",
    "            angles=np.zeros((len(x_diff),1))\n",
    "            for i in range(len(x_diff)-1):\n",
    "                theta_1=np.arctan(y_diff.iloc[i]/x_diff.iloc[i])\n",
    "                theta_2=np.arctan(y_diff.iloc[i+1]/x_diff.iloc[i+1])\n",
    "                angles[i]=(theta_2-theta_1)*(180/np.pi)\n",
    "            for count, val in enumerate (angles):\n",
    "                if val==0:\n",
    "                    angles[count]=np.nan\n",
    "            vel=vel[0:len(angles)]\n",
    "            traj_stats.append([n, angles,vel])\n",
    "        angle_array=[]\n",
    "        vel_array=[]\n",
    "        for i in range(len(traj_stats)):\n",
    "            section1=traj_stats[i][1]\n",
    "            section1=np.reshape(section1,(len(section1),))\n",
    "            section2=traj_stats[i][2]\n",
    "            section2=np.reshape(section2,(len(section2),))\n",
    "            angle_array=np.hstack([section1,angle_array])\n",
    "            vel_array=np.hstack([section2,vel_array])\n",
    "            final_array=np.vstack([np.transpose(angle_array)[0:len(vel_array)],np.transpose(vel_array)])\n",
    "        pd.DataFrame(np.transpose(final_array)).to_csv('vel'+str(filename))\n",
    "\n"
   ]
  },
  {
   "cell_type": "code",
   "execution_count": 26,
   "metadata": {},
   "outputs": [
    {
     "data": {
      "text/plain": [
       "0              NaN\n",
       "1      -428.984141\n",
       "2              NaN\n",
       "3              NaN\n",
       "4              NaN\n",
       "           ...    \n",
       "1431           NaN\n",
       "1432           NaN\n",
       "1433           NaN\n",
       "1434           NaN\n",
       "1435           NaN\n",
       "Name: 126, Length: 1436, dtype: float64"
      ]
     },
     "execution_count": 26,
     "metadata": {},
     "output_type": "execute_result"
    }
   ],
   "source": [
    "xc.iloc[79].diff()\n",
    "x_diff\n"
   ]
  },
  {
   "cell_type": "code",
   "execution_count": 5,
   "metadata": {},
   "outputs": [],
   "source": [
    "import pandas as pd\n",
    "xc=pd.read_csv('C:/Users/marcb/Desktop/trackmate_bgs/sim_trajectories/xc_unil_Gaussian_345part_5xspeed_gluedz.csv',header=None)"
   ]
  },
  {
   "cell_type": "code",
   "execution_count": 6,
   "metadata": {},
   "outputs": [
    {
     "data": {
      "text/plain": [
       "(480, 472)"
      ]
     },
     "execution_count": 6,
     "metadata": {},
     "output_type": "execute_result"
    }
   ],
   "source": [
    "xc.shape"
   ]
  },
  {
   "cell_type": "code",
   "execution_count": 7,
   "metadata": {},
   "outputs": [
    {
     "data": {
      "text/plain": [
       "0      1017.835497\n",
       "1      1016.250220\n",
       "2      1014.931514\n",
       "3      1013.726045\n",
       "4      1012.637808\n",
       "          ...     \n",
       "467            NaN\n",
       "468            NaN\n",
       "469            NaN\n",
       "470            NaN\n",
       "471            NaN\n",
       "Name: 0, Length: 472, dtype: float64"
      ]
     },
     "execution_count": 7,
     "metadata": {},
     "output_type": "execute_result"
    }
   ],
   "source": [
    "xc.iloc[0]"
   ]
  },
  {
   "cell_type": "code",
   "execution_count": null,
   "metadata": {},
   "outputs": [],
   "source": []
  }
 ],
 "metadata": {
  "kernelspec": {
   "display_name": "Python 3 (ipykernel)",
   "language": "python",
   "name": "python3"
  },
  "language_info": {
   "codemirror_mode": {
    "name": "ipython",
    "version": 3
   },
   "file_extension": ".py",
   "mimetype": "text/x-python",
   "name": "python",
   "nbconvert_exporter": "python",
   "pygments_lexer": "ipython3",
   "version": "3.9.12"
  }
 },
 "nbformat": 4,
 "nbformat_minor": 4
}
